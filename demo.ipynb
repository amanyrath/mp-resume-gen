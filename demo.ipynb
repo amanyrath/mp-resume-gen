{
 "cells": [
  {
   "cell_type": "code",
   "execution_count": 202,
   "id": "faa1c33b",
   "metadata": {},
   "outputs": [],
   "source": [
    "import pandas as pd\n",
    "import datetime as dt\n",
    "from dateutil.relativedelta import relativedelta\n",
    "import numpy as np"
   ]
  },
  {
   "cell_type": "markdown",
   "id": "11026aea",
   "metadata": {},
   "source": [
    "# MP Resume Generator"
   ]
  },
  {
   "cell_type": "code",
   "execution_count": 194,
   "id": "f431e9ca",
   "metadata": {},
   "outputs": [
    {
     "data": {
      "text/html": [
       "<div>\n",
       "<style scoped>\n",
       "    .dataframe tbody tr th:only-of-type {\n",
       "        vertical-align: middle;\n",
       "    }\n",
       "\n",
       "    .dataframe tbody tr th {\n",
       "        vertical-align: top;\n",
       "    }\n",
       "\n",
       "    .dataframe thead th {\n",
       "        text-align: right;\n",
       "    }\n",
       "</style>\n",
       "<table border=\"1\" class=\"dataframe\">\n",
       "  <thead>\n",
       "    <tr style=\"text-align: right;\">\n",
       "      <th></th>\n",
       "      <th>date</th>\n",
       "      <th>route</th>\n",
       "      <th>rating</th>\n",
       "      <th>notes</th>\n",
       "      <th>url</th>\n",
       "      <th>pitches</th>\n",
       "      <th>location</th>\n",
       "      <th>avg_stars</th>\n",
       "      <th>your_stars</th>\n",
       "      <th>style</th>\n",
       "      <th>lead_style</th>\n",
       "      <th>route_type</th>\n",
       "      <th>your_rating</th>\n",
       "      <th>length</th>\n",
       "      <th>rating_code</th>\n",
       "    </tr>\n",
       "  </thead>\n",
       "  <tbody>\n",
       "    <tr>\n",
       "      <th>0</th>\n",
       "      <td>2025-06-22</td>\n",
       "      <td>La Cosita, Left</td>\n",
       "      <td>5.7</td>\n",
       "      <td>NaN</td>\n",
       "      <td>https://www.mountainproject.com/route/10587777...</td>\n",
       "      <td>1</td>\n",
       "      <td>California &gt; Yosemite National Park &gt; Yosemite...</td>\n",
       "      <td>2.8</td>\n",
       "      <td>-1</td>\n",
       "      <td>TR</td>\n",
       "      <td>NaN</td>\n",
       "      <td>Trad</td>\n",
       "      <td>NaN</td>\n",
       "      <td>NaN</td>\n",
       "      <td>1800</td>\n",
       "    </tr>\n",
       "    <tr>\n",
       "      <th>1</th>\n",
       "      <td>2025-06-22</td>\n",
       "      <td>Sacherer Cracker</td>\n",
       "      <td>5.10a</td>\n",
       "      <td>Tr solo</td>\n",
       "      <td>https://www.mountainproject.com/route/10594553...</td>\n",
       "      <td>1</td>\n",
       "      <td>California &gt; Yosemite National Park &gt; Yosemite...</td>\n",
       "      <td>3.8</td>\n",
       "      <td>-1</td>\n",
       "      <td>TR</td>\n",
       "      <td>NaN</td>\n",
       "      <td>Trad</td>\n",
       "      <td>NaN</td>\n",
       "      <td>150.0</td>\n",
       "      <td>2600</td>\n",
       "    </tr>\n",
       "    <tr>\n",
       "      <th>2</th>\n",
       "      <td>2025-06-21</td>\n",
       "      <td>The Nutcracker Suite (aka Nutcracker)</td>\n",
       "      <td>5.8</td>\n",
       "      <td>NaN</td>\n",
       "      <td>https://www.mountainproject.com/route/10583350...</td>\n",
       "      <td>4</td>\n",
       "      <td>California &gt; Yosemite National Park &gt; Yosemite...</td>\n",
       "      <td>3.6</td>\n",
       "      <td>-1</td>\n",
       "      <td>Lead</td>\n",
       "      <td>Onsight</td>\n",
       "      <td>Trad</td>\n",
       "      <td>NaN</td>\n",
       "      <td>500.0</td>\n",
       "      <td>2100</td>\n",
       "    </tr>\n",
       "  </tbody>\n",
       "</table>\n",
       "</div>"
      ],
      "text/plain": [
       "         date                                  route rating     notes  \\\n",
       "0  2025-06-22                        La Cosita, Left    5.7       NaN   \n",
       "1  2025-06-22                       Sacherer Cracker  5.10a  Tr solo    \n",
       "2  2025-06-21  The Nutcracker Suite (aka Nutcracker)    5.8       NaN   \n",
       "\n",
       "                                                 url  pitches  \\\n",
       "0  https://www.mountainproject.com/route/10587777...        1   \n",
       "1  https://www.mountainproject.com/route/10594553...        1   \n",
       "2  https://www.mountainproject.com/route/10583350...        4   \n",
       "\n",
       "                                            location  avg_stars  your_stars  \\\n",
       "0  California > Yosemite National Park > Yosemite...        2.8          -1   \n",
       "1  California > Yosemite National Park > Yosemite...        3.8          -1   \n",
       "2  California > Yosemite National Park > Yosemite...        3.6          -1   \n",
       "\n",
       "  style lead_style route_type your_rating  length  rating_code  \n",
       "0    TR        NaN       Trad         NaN     NaN         1800  \n",
       "1    TR        NaN       Trad         NaN   150.0         2600  \n",
       "2  Lead    Onsight       Trad         NaN   500.0         2100  "
      ]
     },
     "execution_count": 194,
     "metadata": {},
     "output_type": "execute_result"
    }
   ],
   "source": [
    "ticks = pd.read_csv('ticks.csv')\n",
    "ticks.columns = [col.lower().replace(' ', '_') for col in ticks.columns]\n",
    "ticks['date'] = pd.to_datetime(ticks['date']).dt.date\n",
    "ticks.head(3)"
   ]
  },
  {
   "cell_type": "markdown",
   "id": "e306c5cc",
   "metadata": {},
   "source": [
    "Desired features:\n",
    "\n",
    "1. Summary (# of routes, # of crags, time climbing)\n",
    "2. Hardest Boulders\n",
    "3. Hardest leads (sport/trad)\n",
    "4. Longest Climbs\n",
    "5. Analytics"
   ]
  },
  {
   "cell_type": "code",
   "execution_count": 207,
   "id": "0dd837d9",
   "metadata": {},
   "outputs": [
    {
     "name": "stdout",
     "output_type": "stream",
     "text": [
      "Number of Routes Climbed: 700\n",
      "First tick: 2016-01-09\n",
      "Climbing for 9 years, 6 months\n"
     ]
    }
   ],
   "source": [
    "# Summary (# routes, how long climbing [first MP tick], # crags)\n",
    "\n",
    "n_routes = len(ticks)\n",
    "print(f\"Number of Routes Climbed: {n_routes}\")\n",
    "\n",
    "first_tick = ticks['date'].sort_values(ascending=True).head(1).values[0]\n",
    "print(f\"First tick: {first_tick}\")\n",
    "\n",
    "climbing_exp = relativedelta(dt.datetime.now().date(),first_tick)\n",
    "print(f\"Climbing for {climbing_exp.years} years, {climbing_exp.months} months\")"
   ]
  },
  {
   "cell_type": "code",
   "execution_count": 208,
   "id": "275926d8",
   "metadata": {},
   "outputs": [
    {
     "name": "stdout",
     "output_type": "stream",
     "text": [
      "Number of crags visited: 96\n",
      "Top 5 Crags:\n"
     ]
    },
    {
     "data": {
      "text/plain": [
       "Oregon > Central Oregon > Smith Rock                                       120\n",
       "New Zealand > South Island > Nelson-Tasman                                  46\n",
       "Nevada > Southern Nevada > Red Rocks                                        36\n",
       "Nevada > Southern Nevada > Red Rock Boulders                                25\n",
       "Thailand > South - Islands & Beaches > Laem Phra Nang (Railay & Tonsai)     23\n",
       "Name: loc_trunc, dtype: int64"
      ]
     },
     "execution_count": 208,
     "metadata": {},
     "output_type": "execute_result"
    }
   ],
   "source": [
    "# examine location\n",
    "ticks['loc_trunc'] = ticks['location'].str.split(' > ').str[:5]\n",
    "\n",
    "# handle international\n",
    "ticks.loc[ticks['location'].str.startswith('International'), 'loc_trunc'] = ticks['loc_trunc'].str[2:]\n",
    "\n",
    "# non-internatioal\n",
    "ticks.loc[~ticks['location'].str.startswith('International'), 'loc_trunc'] = ticks['loc_trunc'].str[:3]\n",
    "\n",
    "# turn to str\n",
    "ticks['loc_trunc'] = ticks['loc_trunc'].str.join(' > ')\n",
    "\n",
    "n_crags = len(ticks['loc_trunc'].unique())\n",
    "top_5_locs = ticks['loc_trunc'].value_counts()[:5]\n",
    "\n",
    "print(f\"Number of crags visited: {n_crags}\")\n",
    "print(\"Top 5 Crags:\")\n",
    "top_5_locs\n"
   ]
  },
  {
   "cell_type": "code",
   "execution_count": 221,
   "id": "ff186588",
   "metadata": {},
   "outputs": [],
   "source": [
    "# hardest boulders\n",
    "hardest_boulders = ticks.loc[ticks['style'].isin(['Flash', 'Send'])].sort_values('rating_code', ascending=False)[:5]"
   ]
  },
  {
   "cell_type": "code",
   "execution_count": 229,
   "id": "0d450316",
   "metadata": {},
   "outputs": [
    {
     "data": {
      "text/plain": [
       "['Lone Pilgrim',\n",
       " 'L-4 One of the Best',\n",
       " 'Sweet Pain',\n",
       " 'As Wicked As It Seems',\n",
       " 'Feral Pakeha']"
      ]
     },
     "execution_count": 229,
     "metadata": {},
     "output_type": "execute_result"
    }
   ],
   "source": [
    "# hardest leads (sport)\n",
    "sport_routes = ticks.loc[ticks['route_type'] == 'Sport']\n",
    "hardest_sp_leads = sport_routes.loc[ticks['lead_style'].isin(['Onsight', 'Flash', 'Redpoint'])].sort_values('rating_code', ascending=False)[:5]\n",
    "hardest_sp_leads['route'].to_list()"
   ]
  },
  {
   "cell_type": "code",
   "execution_count": 233,
   "id": "8109f965",
   "metadata": {},
   "outputs": [
    {
     "data": {
      "text/plain": [
       "['Perfect Pitch', 'Profundity', 'Everything Hertz', 'Zion', 'Gang of Foreplay']"
      ]
     },
     "execution_count": 233,
     "metadata": {},
     "output_type": "execute_result"
    }
   ],
   "source": [
    "# hardest leads (trad)\n",
    "trad_routes = ticks.loc[ticks['route_type'] == 'Trad']\n",
    "hardest_tr_leads = trad_routes.loc[ticks['lead_style'].isin(['Onsight', 'Flash', 'Redpoint'])].sort_values('rating_code', ascending=False)[:5]\n",
    "hardest_tr_leads['route'].to_list()"
   ]
  },
  {
   "cell_type": "code",
   "execution_count": 235,
   "id": "dacd2dc4",
   "metadata": {},
   "outputs": [
    {
     "data": {
      "text/plain": [
       "['Epinephrine',\n",
       " 'Solar Slab',\n",
       " 'Tunnel Vision',\n",
       " 'Frontside 180',\n",
       " 'The Spirit of Squamish']"
      ]
     },
     "execution_count": 235,
     "metadata": {},
     "output_type": "execute_result"
    }
   ],
   "source": [
    "# longest routes\n",
    "\n",
    "longest_routes = ticks.sort_values('length', ascending=False)[:5]\n",
    "longest_routes['route'].to_list()"
   ]
  },
  {
   "cell_type": "code",
   "execution_count": null,
   "id": "fd3fb283",
   "metadata": {},
   "outputs": [],
   "source": []
  }
 ],
 "metadata": {
  "kernelspec": {
   "display_name": "Python 3",
   "language": "python",
   "name": "python3"
  },
  "language_info": {
   "codemirror_mode": {
    "name": "ipython",
    "version": 3
   },
   "file_extension": ".py",
   "mimetype": "text/x-python",
   "name": "python",
   "nbconvert_exporter": "python",
   "pygments_lexer": "ipython3",
   "version": "3.10.2"
  }
 },
 "nbformat": 4,
 "nbformat_minor": 5
}
